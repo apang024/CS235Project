{
  "nbformat": 4,
  "nbformat_minor": 0,
  "metadata": {
    "colab": {
      "provenance": []
    },
    "kernelspec": {
      "name": "python3",
      "display_name": "Python 3"
    },
    "language_info": {
      "name": "python"
    }
  },
  "cells": [
    {
      "cell_type": "markdown",
      "source": [
        "# Data Pre-Processing"
      ],
      "metadata": {
        "id": "OAEnnMAIwIX8"
      }
    },
    {
      "cell_type": "markdown",
      "source": [
        "Citations:\n",
        "- [TA provided sample project](https://elearn.ucr.edu/courses/104198/pages/sample-project-material?module_item_id=1752456)\n",
        "- [Google Drive Mounting and Folder Path](https://stackoverflow.com/questions/72199130/google-colab-import-data-from-google-drive-and-make-it-possible-to-share-it)\n",
        "- [SKLearn Libraries for Decision Trees](https://scikit-learn.org/stable/modules/tree.html)\n",
        "- Preprocessing/Metric Representation - similar to the team\n",
        "---\n",
        "\n",
        "**Goal:** Predict adoption speed of animal based on features given by adoption centers to improve allocation of resources for long-term animals.\n",
        "\n",
        "---\n",
        "Here is a key for the given attributes:\n",
        "- adoption speed (value to predict) (0 - same day, 1 - one and seven days, 2 - eight and thirty days, 3 - thirty-one and ninety days, 4  - no adoption after 100 days)\n",
        "- animal type (1 = dog/2 = cat)\n",
        "- age (in months)\n",
        "- breed (refer to labels)\n",
        "- gender (1 = Male, 2 = Female, 3 = Multiple in one Post)\n",
        "- color (refer to labels)\n",
        "- maturity (1 = Small, 2 = Medium, 3 = Large, 4 = Extra Large, 0 = Not Specified)\n",
        "- fur length  (1 = Short, 2 = Medium, 3 = Long, 0 = Not Specified)\n",
        "- vaccination status  (1 = Yes, 2 = No, 3 = Not Sure)\n",
        "- dewormed status  (1 = Yes, 2 = No, 3 = Not Sure)\n",
        "- sterilization  (1 = Yes, 2 = No, 3 = Not Sure)\n",
        "- health condition  (1 = Healthy, 2 = Minor Injury, 3 = Serious Injury, 0 = Not Specified)\n",
        "- quantity (number of pets in listing)\n",
        "- adoption fee (in RM)\n",
        "- location (state in Malaysia, refer to labels)\n",
        "---\n"
      ],
      "metadata": {
        "id": "2bKLnG01f9uN"
      }
    },
    {
      "cell_type": "code",
      "source": [
        "# Setup Libraries\n",
        "import numpy as np\n",
        "import seaborn as sns\n",
        "from scipy import stats\n",
        "from sklearn.tree import DecisionTreeClassifier\n",
        "from sklearn.metrics import accuracy_score\n",
        "from sklearn.model_selection import train_test_split\n",
        "from sklearn.tree import plot_tree\n",
        "from sklearn.metrics import precision_score, recall_score\n",
        "from sklearn.feature_extraction import FeatureHasher\n",
        "from sklearn.preprocessing import LabelEncoder\n",
        "\n",
        "# Setup Dataframes\n",
        "import pandas as pd\n",
        "from google.colab import drive\n",
        "from sklearn.model_selection import train_test_split\n",
        "drive.mount('/content/drive/', force_remount=True)\n",
        "df_train = pd.read_csv( \"/content/drive/My Drive/Colab Notebooks/train.csv\")"
      ],
      "metadata": {
        "id": "clifCREyaDVS"
      },
      "execution_count": null,
      "outputs": []
    },
    {
      "cell_type": "code",
      "source": [
        "# Drop columns\n",
        "df_train = df_train.drop(['Name', 'RescuerID', 'PetID', 'Description'], axis=1)\n",
        "\n",
        "# Drop rows with missing information\n",
        "df_train = df_train.dropna()\n",
        "\n",
        "# Calculate z-score for only numerical columns\n",
        "z_scores_fee = np.abs(stats.zscore(df_train['Fee']))\n",
        "z_scores_age = np.abs(stats.zscore(df_train['Age']))\n",
        "\n",
        "# Using a threshold of 5 std dev. identify the outlier rows\n",
        "outlier_rows_fee = z_scores_fee > 5\n",
        "outlier_rows_age = z_scores_age > 5\n",
        "combined_outlier_rows = outlier_rows_fee | outlier_rows_age\n",
        "\n",
        "# Remove rows with outliers\n",
        "df_train = df_train[~combined_outlier_rows]\n",
        "print(f\"Removed {combined_outlier_rows.sum()} rows due to outliers. There are now {df_train.shape[0]} rows in our unsplit training data.\")\n",
        "\n",
        "# Separate the resulting column from the training data\n",
        "adoption_speed_train = df_train.pop('AdoptionSpeed')"
      ],
      "metadata": {
        "id": "V09E2JOReEOp"
      },
      "execution_count": null,
      "outputs": []
    },
    {
      "cell_type": "markdown",
      "source": [
        "For categorical features, we have to encode them in order to avoid having the number associated with the feature implying an order. I used separated them into binary, ordinal, and non-ordinal categories.\n",
        "\n",
        "- Gender, etc. are binary as there are only 3 options for each (ex: Yes, No, Not sure) and we can easily use one-hot encoding through pandas' get_dummies function\n",
        "- Maturity, Size, Color, etc. have an order to them (ex: 1 = black, 7 = white), and so color is ordered from dark to light which means that there is a natural order and we can use Label encoding\n",
        "- For Breed since it is non-ordinal, we will have to split Breed into different features, and we chose the top 8 breeds and calculated their frequencies for each column, and created another column for all other."
      ],
      "metadata": {
        "id": "VtGEmvA3PKPq"
      }
    },
    {
      "cell_type": "code",
      "source": [
        "# Separating categorical features\n",
        "binary_categorical_columns = ['Gender','Vaccinated','Dewormed', 'Sterilized']\n",
        "ordinal_categorical_columns = ['MaturitySize', 'FurLength', 'Health', 'Color1', 'Color2', 'Color3']\n",
        "nonordinal_categorical_columns = ['Breed1', 'Breed2']\n",
        "\n",
        "# Encoding\n",
        "label_encoder = LabelEncoder()\n",
        "df_train = pd.get_dummies(df_train, columns=binary_categorical_columns)\n",
        "for column in ordinal_categorical_columns:\n",
        "  df_train[column] = label_encoder.fit_transform(df_train[column])\n",
        "\n",
        "# Split non-ordinal categorical columns into n features (similar to Benjamin's preprocessing)\n",
        "n = 3\n",
        "\n",
        "for feature in nonordinal_categorical_columns:\n",
        "  top_N_values = df_train[feature].value_counts().head(n)\n",
        "  print(f'Top {n} values for {feature}:\\n{top_N_values}\\n')\n",
        "\n",
        "  top_N_value_names = top_N_values.index\n",
        "  for index, row in df_train.iterrows():\n",
        "    # If value isn't top N frequency, replace with -1 (other)\n",
        "    if row[feature] not in top_N_value_names:\n",
        "      df_train.at[index, feature] = -1\n",
        "\n",
        "  df_train = pd.get_dummies(df_train, columns=[feature])"
      ],
      "metadata": {
        "id": "XsE0ifAMFmbz"
      },
      "execution_count": null,
      "outputs": []
    },
    {
      "cell_type": "code",
      "source": [
        "# Split 85% training, 10% test, 5% validation\n",
        "df_train_85, X_temp, adoption_speed_train_85, y_temp = train_test_split(df_train, adoption_speed_train, test_size=0.15, random_state=42, stratify=adoption_speed_train)    # 85% training set, 15% temp set\n",
        "df_test_10, df_val_5, adoption_speed_test_10, adoption_speed_val_5 = train_test_split(X_temp, y_temp, test_size=1/3, random_state=42, stratify=y_temp)       # 10% test set, 5% validation set"
      ],
      "metadata": {
        "id": "H3OtuoDbxaUC"
      },
      "execution_count": null,
      "outputs": []
    },
    {
      "cell_type": "markdown",
      "source": [
        "Out of curiostiy, I also plot the pairwise feature plot for any values that are features with continuous values to view their corresponding plots. I can see from these graphs that many of the graphs are right skewed.\n",
        "\n",
        "I did not plot any other features as their values are categorical and do not give very interesting graphs as many of them group vertically due to their categorical nature."
      ],
      "metadata": {
        "id": "e8b9_GtAfKzf"
      }
    },
    {
      "cell_type": "code",
      "source": [
        "sns.pairplot(df_train_85[['Age', 'Quantity', 'Fee']], diag_kind=\"hist\")"
      ],
      "metadata": {
        "id": "D7liTifQt7_A"
      },
      "execution_count": null,
      "outputs": []
    },
    {
      "cell_type": "markdown",
      "source": [
        "For the decision tree model:\n",
        "- max_depth: helps to restrict the max depth that the decision tree can be (decrease to help with overfitting)\n",
        "- min_samples_split: the smallest number that an internal node needs to split into child nodes (increase to help with overfitting)\n",
        "- min_samples_leaf: the smallest number that an external node needs to split into child nodes (increase to help with overfitting)"
      ],
      "metadata": {
        "id": "0OztF0H0hfln"
      }
    },
    {
      "cell_type": "code",
      "source": [
        "# Create a decision tree model (default)\n",
        "decision_tree_default = DecisionTreeClassifier()\n",
        "decision_tree_default.fit(df_train_85, adoption_speed_train_85)\n",
        "adoption_speed_train_prediction_default = decision_tree_default.predict(df_train_85)\n",
        "adoption_speed_val_prediction_default = decision_tree_default.predict(df_val_5)\n",
        "adoption_speed_test_prediction_default = decision_tree_default.predict(df_test_10)\n",
        "\n",
        "\n",
        "# Create a decision tree model (pre-pruning)\n",
        "decision_tree = DecisionTreeClassifier(max_depth=10, min_samples_split=2, min_samples_leaf=2)\n",
        "decision_tree.fit(df_train_85, adoption_speed_train_85)\n",
        "adoption_speed_train_prediction = decision_tree.predict(df_train_85)\n",
        "adoption_speed_val_prediction = decision_tree.predict(df_val_5)\n",
        "adoption_speed_test_prediction = decision_tree.predict(df_test_10)"
      ],
      "metadata": {
        "id": "9iLjTAzq1FpT"
      },
      "execution_count": null,
      "outputs": []
    },
    {
      "cell_type": "code",
      "source": [
        "# OFF THE SHELF BASELINE MODEL\n",
        "print(f\"Before Pre-Pruning (default baseline model):\")\n",
        "\n",
        "datasets = [\n",
        "    (adoption_speed_train_85, adoption_speed_train_prediction_default, 'Training'),\n",
        "    (adoption_speed_val_5, adoption_speed_val_prediction_default, 'Validation'),\n",
        "    (adoption_speed_test_10, adoption_speed_test_prediction_default, 'Test')\n",
        "]\n",
        "\n",
        "for data, predictions, label in datasets:\n",
        "  # Calculate and print accuracy, precion, and recall per class (FOR TRAINING)\n",
        "  accuracy = accuracy_score(data, predictions)\n",
        "  print(f\"\\nAccuracy ({label}): {accuracy}\")\n",
        "  # Calculate and print average weighted precision and recall for classes overall\n",
        "  avg_precision = precision_score(data, predictions, average='weighted', zero_division=0)\n",
        "  avg_recall = recall_score(data, predictions, average='weighted', zero_division=0)\n",
        "  print(f'Average weighted precision: {avg_precision}')\n",
        "  print(f'Average weighted recall: {avg_recall}')\n",
        "  # Calculate precision and recall for each class separately with zero_division = 0 so that precision or recall as 0.0 for classes with no predicted samples\n",
        "  precision_per_class = precision_score(data, predictions, average=None, zero_division=0)\n",
        "  recall_per_class = recall_score(data, predictions, average=None, zero_division=0)\n",
        "  # Print precision and recall for each class\n",
        "  for class_label, precision, recall in zip(range(len(precision_per_class)), precision_per_class, recall_per_class):\n",
        "      print(f'Class {class_label}: Precision = {precision:.2f}, Recall = {recall:.2f}')"
      ],
      "metadata": {
        "id": "LN3WpG6m61Z8"
      },
      "execution_count": null,
      "outputs": []
    },
    {
      "cell_type": "code",
      "source": [
        "# USING ADJUSTED MODEL PARAMETERS (Pre-pruning)\n",
        "print(f\"After Pre-Pruning:\")\n",
        "datasets = [\n",
        "    (adoption_speed_train_85, adoption_speed_train_prediction, 'Training'),\n",
        "    (adoption_speed_val_5, adoption_speed_val_prediction, 'Validation'),\n",
        "    (adoption_speed_test_10, adoption_speed_test_prediction, 'Test')\n",
        "]\n",
        "\n",
        "for data, predictions, label in datasets:\n",
        "  # Calculate and print accuracy, precion, and recall per class (FOR TRAINING)\n",
        "  accuracy = accuracy_score(data, predictions)\n",
        "  print(f\"\\nAccuracy ({label}): {accuracy}\")\n",
        "  # Calculate and print average weighted precision and recall for classes overall\n",
        "  avg_precision = precision_score(data, predictions, average='weighted', zero_division=0)\n",
        "  avg_recall = recall_score(data, predictions, average='weighted', zero_division=0)\n",
        "  print(f'Average weighted precision: {avg_precision}')\n",
        "  print(f'Average weighted recall: {avg_recall}')\n",
        "  # Calculate precision and recall for each class separately with zero_division = 0 so that precision or recall as 0.0 for classes with no predicted samples\n",
        "  precision_per_class = precision_score(data, predictions, average=None, zero_division=0)\n",
        "  recall_per_class = recall_score(data, predictions, average=None, zero_division=0)\n",
        "  # Print precision and recall for each class\n",
        "  for class_label, precision, recall in zip(range(len(precision_per_class)), precision_per_class, recall_per_class):\n",
        "      print(f'Class {class_label}: Precision = {precision:.2f}, Recall = {recall:.2f}')\n"
      ],
      "metadata": {
        "id": "wXoNzAtKiWg6"
      },
      "execution_count": null,
      "outputs": []
    },
    {
      "cell_type": "code",
      "source": [
        "from sklearn.tree import export_text\n",
        "r = export_text(decision_tree, feature_names=df_train_85.columns.tolist())\n",
        "print(r)"
      ],
      "metadata": {
        "id": "33fhILuc4cCK"
      },
      "execution_count": null,
      "outputs": []
    },
    {
      "cell_type": "code",
      "source": [
        "plot_tree(decision_tree)"
      ],
      "metadata": {
        "id": "ZJeTv56isO6X"
      },
      "execution_count": null,
      "outputs": []
    }
  ]
}